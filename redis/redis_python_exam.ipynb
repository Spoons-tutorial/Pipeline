{
 "cells": [
  {
   "cell_type": "code",
   "execution_count": null,
   "id": "8507c55b",
   "metadata": {},
   "outputs": [],
   "source": [
    "import redis\n",
    "import time"
   ]
  },
  {
   "cell_type": "code",
   "execution_count": null,
   "id": "700dfb8f",
   "metadata": {},
   "outputs": [],
   "source": [
    "pool = redis.ConnectionPool(host='localhost', port=6379, db=0)\n",
    "client = redis.Redis(connection_pool=pool)"
   ]
  },
  {
   "cell_type": "code",
   "execution_count": null,
   "id": "b0a04ccc",
   "metadata": {},
   "outputs": [],
   "source": []
  },
  {
   "cell_type": "markdown",
   "id": "233fc4b4",
   "metadata": {},
   "source": [
    "### Key:value 형태로 저장하기"
   ]
  },
  {
   "cell_type": "code",
   "execution_count": null,
   "id": "702157d4",
   "metadata": {
    "scrolled": true
   },
   "outputs": [],
   "source": [
    "client.set(\"test\", 1234)"
   ]
  },
  {
   "cell_type": "code",
   "execution_count": null,
   "id": "470808e1",
   "metadata": {},
   "outputs": [],
   "source": [
    "client.get(\"test\")"
   ]
  },
  {
   "cell_type": "code",
   "execution_count": null,
   "id": "a8b03888",
   "metadata": {},
   "outputs": [],
   "source": []
  },
  {
   "cell_type": "markdown",
   "id": "e75bfc37",
   "metadata": {},
   "source": [
    "client.flushall() 명령어로 데이터베이스를 모두 삭제할 수 있습니다."
   ]
  },
  {
   "cell_type": "code",
   "execution_count": null,
   "id": "1c9b015e",
   "metadata": {},
   "outputs": [],
   "source": [
    "client.flushall()"
   ]
  },
  {
   "cell_type": "code",
   "execution_count": null,
   "id": "26a2ac08",
   "metadata": {},
   "outputs": [],
   "source": [
    "print(client.get(\"test\"))"
   ]
  },
  {
   "cell_type": "code",
   "execution_count": null,
   "id": "96220218",
   "metadata": {},
   "outputs": [],
   "source": []
  },
  {
   "cell_type": "markdown",
   "id": "22b07931",
   "metadata": {},
   "source": [
    "다음과 같이 ex인자를 전달하여 데이터가 저장되는 시간에 제한을 둘 수 있습니다."
   ]
  },
  {
   "cell_type": "code",
   "execution_count": null,
   "id": "d4d2a7f3",
   "metadata": {},
   "outputs": [],
   "source": [
    "client.set(\"expire\", \"I'm here\", ex=1) # 1초 후 만료\n",
    "print(client.get(\"expire\"))\n",
    "\n",
    "time.sleep(1)\n",
    "print(client.get(\"expire\"))"
   ]
  },
  {
   "cell_type": "code",
   "execution_count": null,
   "id": "efb53fcb",
   "metadata": {},
   "outputs": [],
   "source": []
  },
  {
   "cell_type": "markdown",
   "id": "5da48c69",
   "metadata": {},
   "source": [
    "client.expire 메서드를 이용하여 만료시간을 재설정해줄 수 있습니다."
   ]
  },
  {
   "cell_type": "code",
   "execution_count": null,
   "id": "9d43028a",
   "metadata": {},
   "outputs": [],
   "source": [
    "client.set(\"expire\", \"I'm here\", ex=1)\n",
    "print(client.get(\"expire\"))\n",
    "client.expire(\"expire\", 3)\n",
    "\n",
    "time.sleep(1)\n",
    "print(client.get(\"expire\"))"
   ]
  },
  {
   "cell_type": "code",
   "execution_count": null,
   "id": "c302af32",
   "metadata": {},
   "outputs": [],
   "source": []
  },
  {
   "cell_type": "markdown",
   "id": "8aa66099",
   "metadata": {},
   "source": [
    "client.ttl() 메서드를 이용하여 만료까지 남은 시간을 측정할 수 있습니다."
   ]
  },
  {
   "cell_type": "code",
   "execution_count": null,
   "id": "bf985e67",
   "metadata": {},
   "outputs": [],
   "source": [
    "client.set(\"expire\", \"I'm here\", ex=10)\n",
    "for _ in range(3):\n",
    "    time.sleep(1)\n",
    "    print(client.ttl(\"expire\"))"
   ]
  },
  {
   "cell_type": "code",
   "execution_count": null,
   "id": "ce4fbc50",
   "metadata": {},
   "outputs": [],
   "source": []
  },
  {
   "cell_type": "code",
   "execution_count": null,
   "id": "5c887c89",
   "metadata": {},
   "outputs": [],
   "source": []
  },
  {
   "cell_type": "markdown",
   "id": "16ce6d0c",
   "metadata": {},
   "source": [
    "### Hashs"
   ]
  },
  {
   "cell_type": "markdown",
   "id": "82d01c13",
   "metadata": {},
   "source": [
    "Hashs는 하나의 Hash키 아래에 또다시 여러개의 Key:value쌍 데이터를 저장할 수 있습니다."
   ]
  },
  {
   "cell_type": "code",
   "execution_count": null,
   "id": "5510737e",
   "metadata": {},
   "outputs": [],
   "source": [
    "user1 = {\"name\": \"eva\",\n",
    "         \"age\": 41,\n",
    "         \"gender\": \"female\",\n",
    "         \"country\": \"France\"}"
   ]
  },
  {
   "cell_type": "markdown",
   "id": "6b8c4aef",
   "metadata": {},
   "source": [
    "다음과 같은 방법으로 읽고 쓸 수 있습니다."
   ]
  },
  {
   "cell_type": "markdown",
   "id": "a8d09b89",
   "metadata": {},
   "source": [
    "```python\n",
    "client.hset(Name, Key, Value)\n",
    "```"
   ]
  },
  {
   "cell_type": "code",
   "execution_count": null,
   "id": "517a83a9",
   "metadata": {
    "scrolled": true
   },
   "outputs": [],
   "source": [
    "client.hset(\"user1\", \"name\", \"eva\")"
   ]
  },
  {
   "cell_type": "code",
   "execution_count": null,
   "id": "330a9f2f",
   "metadata": {},
   "outputs": [],
   "source": [
    "client.hget(\"user1\", \"name\")"
   ]
  },
  {
   "cell_type": "code",
   "execution_count": null,
   "id": "de2c6f62",
   "metadata": {},
   "outputs": [],
   "source": []
  },
  {
   "cell_type": "code",
   "execution_count": null,
   "id": "6c6e82ff",
   "metadata": {
    "scrolled": true
   },
   "outputs": [],
   "source": [
    "client.hset(\"user1\", \"age\", 41)"
   ]
  },
  {
   "cell_type": "code",
   "execution_count": null,
   "id": "59f8600e",
   "metadata": {},
   "outputs": [],
   "source": [
    "client.hget(\"user1\", \"age\")"
   ]
  },
  {
   "cell_type": "code",
   "execution_count": null,
   "id": "0c01d399",
   "metadata": {},
   "outputs": [],
   "source": []
  },
  {
   "cell_type": "markdown",
   "id": "dbae7b17",
   "metadata": {},
   "source": [
    "여러개의 Key:value 쌍을 한번에 저장할 수도 있습니다."
   ]
  },
  {
   "cell_type": "code",
   "execution_count": null,
   "id": "014794b3",
   "metadata": {},
   "outputs": [],
   "source": [
    "client.hmset(\"user1\", user1)"
   ]
  },
  {
   "cell_type": "code",
   "execution_count": null,
   "id": "6a9b92d2",
   "metadata": {},
   "outputs": [],
   "source": [
    "client.hmget(\"user1\", \"name\", \"age\", \"gender\", \"country\")"
   ]
  },
  {
   "cell_type": "markdown",
   "id": "44ac772d",
   "metadata": {},
   "source": [
    "하지만, DeprecationWarning이 출력됩니다. 앞으로는 hset()을 이용하라고 하네요. 다음의 방법으로 hmset의 기능을 동일하게 이용할 수 있습니다. 저장된 데이터쌍의 개수를 Return합니다."
   ]
  },
  {
   "cell_type": "code",
   "execution_count": null,
   "id": "94711b6c",
   "metadata": {},
   "outputs": [],
   "source": [
    "client.flushall()\n",
    "client.hset(\"user1\", mapping = user1)"
   ]
  },
  {
   "cell_type": "code",
   "execution_count": null,
   "id": "bafd1e82",
   "metadata": {},
   "outputs": [],
   "source": [
    "client.hget(\"user1\", \"name\") # Hash key 내에 있는 특정 Key의 Value 가져오기"
   ]
  },
  {
   "cell_type": "code",
   "execution_count": null,
   "id": "8359e540",
   "metadata": {},
   "outputs": [],
   "source": [
    "client.hmget(\"user1\", \"name\", \"age\") # Hash Key 내에 있는 일부 Key들의 value 가져오기"
   ]
  },
  {
   "cell_type": "code",
   "execution_count": null,
   "id": "6432a651",
   "metadata": {},
   "outputs": [],
   "source": [
    "client.hgetall(\"user1\") # Hash key에 저장된 모든 Key:value 가져오기"
   ]
  },
  {
   "cell_type": "code",
   "execution_count": null,
   "id": "af89ccd3",
   "metadata": {},
   "outputs": [],
   "source": []
  },
  {
   "cell_type": "markdown",
   "id": "aeb615ec",
   "metadata": {},
   "source": [
    "그 외 다음과 같은 Hashs와 관련된 메서드들이 존재합니다."
   ]
  },
  {
   "cell_type": "code",
   "execution_count": null,
   "id": "fc5a8999",
   "metadata": {},
   "outputs": [],
   "source": [
    "client.hkeys(\"user1\") # Hash key에 저장된 모든 Key 가져오기"
   ]
  },
  {
   "cell_type": "code",
   "execution_count": null,
   "id": "2b11286a",
   "metadata": {},
   "outputs": [],
   "source": [
    "client.hvals(\"user1\") # Hash key에 저장된 모든 value 가져오기"
   ]
  },
  {
   "cell_type": "code",
   "execution_count": null,
   "id": "b9445f97",
   "metadata": {},
   "outputs": [],
   "source": [
    "client.hlen(\"user1\") # Hash key에 저장된 Key:value의 개수 조회"
   ]
  },
  {
   "cell_type": "code",
   "execution_count": null,
   "id": "5d040297",
   "metadata": {},
   "outputs": [],
   "source": []
  },
  {
   "cell_type": "code",
   "execution_count": null,
   "id": "38cd4021",
   "metadata": {
    "scrolled": true
   },
   "outputs": [],
   "source": [
    "client.hexists(\"user1\", \"age\") # key가 있는지 확인"
   ]
  },
  {
   "cell_type": "code",
   "execution_count": null,
   "id": "a8498948",
   "metadata": {},
   "outputs": [],
   "source": [
    "client.hexists(\"user1\", \"email\")"
   ]
  },
  {
   "cell_type": "code",
   "execution_count": null,
   "id": "85079f60",
   "metadata": {},
   "outputs": [],
   "source": []
  },
  {
   "cell_type": "code",
   "execution_count": null,
   "id": "f2b61866",
   "metadata": {},
   "outputs": [],
   "source": [
    "client.hsetnx(\"user1\", \"name\", \"eva\") # Key가 DB에 없으면 저장"
   ]
  },
  {
   "cell_type": "code",
   "execution_count": null,
   "id": "0b57e772",
   "metadata": {},
   "outputs": [],
   "source": [
    "client.hsetnx(\"user1\", \"email\", \"eva123@gmail.com\")"
   ]
  },
  {
   "cell_type": "code",
   "execution_count": null,
   "id": "3ff7b459",
   "metadata": {},
   "outputs": [],
   "source": []
  },
  {
   "cell_type": "code",
   "execution_count": null,
   "id": "3b45e615",
   "metadata": {},
   "outputs": [],
   "source": [
    "client.delete(\"user1\") # 특정 Hash Key와 저장된 데이터 삭제하기"
   ]
  },
  {
   "cell_type": "code",
   "execution_count": null,
   "id": "d128fe33",
   "metadata": {
    "scrolled": true
   },
   "outputs": [],
   "source": [
    "client.hgetall(\"user1\")"
   ]
  },
  {
   "cell_type": "code",
   "execution_count": null,
   "id": "5bb43e3d",
   "metadata": {},
   "outputs": [],
   "source": []
  },
  {
   "cell_type": "code",
   "execution_count": null,
   "id": "5c975a10",
   "metadata": {},
   "outputs": [],
   "source": []
  }
 ],
 "metadata": {
  "kernelspec": {
   "display_name": "Python 3 (ipykernel)",
   "language": "python",
   "name": "python3"
  },
  "language_info": {
   "codemirror_mode": {
    "name": "ipython",
    "version": 3
   },
   "file_extension": ".py",
   "mimetype": "text/x-python",
   "name": "python",
   "nbconvert_exporter": "python",
   "pygments_lexer": "ipython3",
   "version": "3.8.12"
  }
 },
 "nbformat": 4,
 "nbformat_minor": 5
}
